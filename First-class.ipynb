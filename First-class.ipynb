{
 "cells": [
  {
   "cell_type": "markdown",
   "id": "a0e258b1",
   "metadata": {},
   "source": [
    "<h1 align=\"right\">راهنمایی هایی در مورد اعلان ها</h1>\n",
    "<h3 align=\"right\">!در این بخش ما به دو مورد اصلی یعنی اعلان ها و تکنیک های مربوط به آن ها میپردازیم</h3>\n",
    "<h5 align=\"right\">وارد کردن کد های اولیه</h5>\n",
    "\n"
   ]
  },
  {
   "cell_type": "code",
   "execution_count": 2,
   "id": "cf0dc926",
   "metadata": {},
   "outputs": [],
   "source": [
    "import openai\n",
    "import os\n",
    "from dotenv import load_dotenv, find_dotenv\n",
    "\n",
    "# Load environment variables from the .env file\n",
    "load_dotenv(find_dotenv())\n",
    "\n",
    "\n",
    "openai.api_key  = os.getenv('API_KEY')"
   ]
  },
  {
   "cell_type": "markdown",
   "id": "ef204779",
   "metadata": {},
   "source": [
    "<h1 align=\"right\">تابع کمکی</h1>\n",
    "<h3 align=\"right\">ما در اینجا از تایع کمکی برای تعریف عملکرد مدل استفاده میکنیم</h3>\n",
    "<h3 align=\"right\">مدلی که در این دورهز از آن استفاده میکنیم \n",
    "    GPT 3.5 tURBO </h3>\n"
   ]
  },
  {
   "cell_type": "code",
   "execution_count": 3,
   "id": "e6bacb2d",
   "metadata": {},
   "outputs": [],
   "source": [
    "def get_completion(prompt, model=\"gpt-3.5-turbo\"):\n",
    "    messages = [{\"role\": \"user\", \"content\": prompt}]\n",
    "    response = openai.ChatCompletion.create(\n",
    "        model=model,\n",
    "        messages=messages,\n",
    "        temperature=0, # this is the degree of randomness of the model's output\n",
    "    )\n",
    "    return response.choices[0].message[\"content\"]"
   ]
  },
  {
   "cell_type": "markdown",
   "id": "d4c9b2ca",
   "metadata": {},
   "source": [
    "<h3 align=\"right\">این تابع کمکی استفاده از دستورات و مشاهده خروجی های تولید شده را آسان تر می کند</h3>\n",
    "\n",
    "<h3 align=\"right\">.اصل 1: دستورالعمل های واضح و مشخص بنویسید</h3>\n",
    "<h3 align=\"right\">.اصل 2: به مدل زمان بدهید تا فکر کند</h3>\n",
    "\n",
    "<h3 align=\"right\">تاکتیک 1: از جداکننده ها برای نشان دادن واضح بخش های مجزا از ورودی استفاده کنید</h3>\n",
    "        <h5 align=\"right\"> ```، \"\"\":جداکننده ها می توانند هر چیزی مانند*</h5>"
   ]
  },
  {
   "cell_type": "code",
   "execution_count": 25,
   "id": "8aff73a9",
   "metadata": {},
   "outputs": [
    {
     "name": "stdout",
     "output_type": "stream",
     "text": [
      "با ارائه دستورالعمل های واضح و خاص، مدل را به سمت خروجی مورد نظر هدایت کنید و شانس دریافت پاسخ های نادرست را کاهش دهید. درخواست های طولانی تر وضوح و زمینه بیشتری را برای مدل فراهم می کند که می تواند خروجی های دقیق تر و مرتبط تری ارائه دهد.\n"
     ]
    }
   ],
   "source": [
    "text = f\"\"\"\n",
    "شما باید انچه را که می خواهید یک مدل انجام دهید با \\\n",
    "ارائه دستورالعمل هایی که به همان اندازه واضح و خاص هستند \\\n",
    "که احتمالا می توانید انها را انجام دهید، بیان کنید \\.\n",
    "این مدل را به سمت خروجی مورد نظر هدایت می کند \\\n",
    "و شانس دریافت جواب های بی ربط یا پاسخ های نادرست را کاهش می دهد  \\\n",
    "نوشتن یک اعلان واضح را با نوشتن یک اعلان کوتاه اشتباه نگیرید.\\\n",
    "در بسیاری از موارد، درخواست های طولانی تر وضوح و زمینه بیشتری را برای مدل \\\n",
    "فراهم می کند که می تواند منجر به خروجی های دقیق تر و مرتبط تر شود. \\\n",
    "\"\"\"\n",
    "prompt = f\"\"\"\n",
    "متنی را که با بکتیک های سه گانه محدود شده اند در یک جمله خلاصه کنید\n",
    "```{text}```\n",
    "\"\"\"\n",
    "response = get_completion(prompt)\n",
    "print(response)"
   ]
  },
  {
   "cell_type": "markdown",
   "id": "df2dd474",
   "metadata": {},
   "source": [
    "<h2 align=\"right\">تاکتیک 2: درخواست یک خروجی ساختاریافته</h2>\n",
    "<h4 align=\"right\"> JSON، HTML</h4>"
   ]
  },
  {
   "cell_type": "code",
   "execution_count": 5,
   "id": "00b9c437",
   "metadata": {},
   "outputs": [
    {
     "name": "stdout",
     "output_type": "stream",
     "text": [
      "{\n",
      "  \"1\": {\n",
      "    \"book_id\": 1,\n",
      "    \"title\": \"To Kill a Mockingbird\",\n",
      "    \"author\": \"Harper Lee\",\n",
      "    \"genre\": \"Fiction\"\n",
      "  },\n",
      "  \"2\": {\n",
      "    \"book_id\": 2,\n",
      "    \"title\": \"1984\",\n",
      "    \"author\": \"George Orwell\",\n",
      "    \"genre\": \"Dystopian Fiction\"\n",
      "  },\n",
      "  \"3\": {\n",
      "    \"book_id\": 3,\n",
      "    \"title\": \"Pride and Prejudice\",\n",
      "    \"author\": \"Jane Austen\",\n",
      "    \"genre\": \"Romance\"\n",
      "  }\n",
      "}\n"
     ]
    }
   ],
   "source": [
    "prompt = f\"\"\"\n",
    "فهرستی از سه عنوان کتاب ساخته شده به همراه نویسندگان و ژانرهای آنها ایجاد کنید. \\\n",
    "آنها را در قالب JSON \\\n",
    "با کلیدهای زیر ارائه دهید: \\\n",
    "book_id، عنوان، نویسنده، ژانر.\n",
    "\"\"\"\n",
    "response = get_completion(prompt)\n",
    "print(response)"
   ]
  },
  {
   "cell_type": "markdown",
   "id": "aefe036b",
   "metadata": {},
   "source": [
    "<h2 align=\"right\">تاکتیک 3: از مدل بخواهید بررسی کند که آیا شرایط راضی کننده هست یا خیر</h2>"
   ]
  },
  {
   "cell_type": "code",
   "execution_count": 26,
   "id": "7b4cf003",
   "metadata": {},
   "outputs": [
    {
     "name": "stdout",
     "output_type": "stream",
     "text": [
      "Completion for Text 1:\n",
      "Step 1 - بیاورید مقداری آب جوش\n",
      "Step 2 - در حالی که منتظرید تا آب داغ شود، یک فنجان بردارید و یک چای کیسه ای در آن قرار دهید\n",
      "Step 3 - وقتی آب به اندازه کافی داغ شد، آن را روی چای کیسه ای بریزید و بگذارید کمی بماند تا چای دم بکشد\n",
      "Step 4 - بعد از چند دقیقه چای کیسه ای را بیرون بیاورید\n",
      "Step 5 - در صورت تمایل مقداری شکر یا شیر اضافه کنید تا مزه دار شود\n",
      "Step 6 - و بس! یک فنجان چای برای نوشیدن\n"
     ]
    }
   ],
   "source": [
    "text_1 = f\"\"\"\n",
    "درست کردن یک فنجان چای آسان است! \\\n",
    "ابتدا باید مقداری آب جوش بیاورید \\\n",
    "در حالی که منتظرید تا داغ شود، یک فنجان بردارید و یک چای کیسه ای در آن قرار دهید \\\n",
    "وقتی آب به اندازه کافی داغ شد، کافی است آن را روی چای کیسه ای بریزید \\\n",
    "بگذارید کمی بماند تا چای دم بکشد \\\n",
    "بعد از چند دقیقه چای کیسه ای را بیرون بیاورید\n",
    "در صورت تمایل می توانید مقداری شکر یا شیر اضافه کنید تا مزه دار شود و بس \\\n",
    "یک فنجان چای برای نوشیدن\n",
    "\"\"\"\n",
    "prompt = f\"\"\"\n",
    "متنی به شما ارائه می شود که با نقل قول های سه گانه مشخص شده است. اگر حاوی دنباله ای از دستورالعمل ها باشد، \\\n",
    "آن دستورالعمل ها را در قالب زیر دوباره بنویسید:\n",
    "\n",
    "Step 1 - ...\n",
    "Step 2 - …\n",
    "…\n",
    "Step N - …\n",
    "\n",
    "اگر متن حاوی یک سری دستورالعمل نیست سپس به سادگی بنویس: \\\n",
    "\"هیچ مرحله ای ارائه نشده است.\"\n",
    "\n",
    "\\\"\\\"\\\"{text_1}\\\"\\\"\\\"\n",
    "\"\"\"\n",
    "response = get_completion(prompt)\n",
    "print(\"Completion for Text 1:\")\n",
    "print(response)"
   ]
  },
  {
   "cell_type": "code",
   "execution_count": 7,
   "id": "1f1a11f0",
   "metadata": {},
   "outputs": [
    {
     "name": "stdout",
     "output_type": "stream",
     "text": [
      "تکمیل متن 2:\n",
      "هیچ مرحله ای ارائه نشده است.\n"
     ]
    }
   ],
   "source": [
    "text_2 = f\"\"\"\n",
    "خورشید امروز به شدت می درخشد و پرندگان آواز می خوانند. \\\n",
    "روز زیبایی برای قدم زدن در پارک است. \\\n",
    "گل ها شکوفه می دهند و درختان به آرامی در نسیم می چرخند. \\\n",
    "مردم بیرون هستند و از آب و هوای خوب لذت می برند. \\\n",
    "برخی در حال پیک نیک هستند، در حالی که برخی دیگر مشغول بازی هستند یا به سادگی روی چمن استراحت می کنند. \\\n",
    "این یک روز عالی برای گذراندن وقت در فضای باز و قدردانی از زیبایی های طبیعت است.\n",
    "\"\"\"\n",
    "prompt = f\"\"\"\n",
    "متنی به شما ارائه می شود که با نقل قول های سه گانه مشخص شده است. \\\n",
    "اگر حاوی دنباله ای از دستورالعمل ها باشد، \\\n",
    "آن دستورالعمل ها را در قالب زیر دوباره بنویسید:\n",
    "\n",
    "Step 1 - ...\n",
    "Step 2 - …\n",
    "…\n",
    "Step N - …\n",
    "\n",
    "اگر متن حاوی یک سری دستورالعمل نیست، \\\n",
    "سپس به سادگی بنویس: \\\n",
    "\"هیچ مرحله ای ارائه نشده است.\"\n",
    "\n",
    "\\\"\\\"\\\"{text_2}\\\"\\\"\\\"\n",
    "\"\"\"\n",
    "response = get_completion(prompt)\n",
    "print(\"تکمیل متن 2:\")\n",
    "print(response)"
   ]
  },
  {
   "cell_type": "markdown",
   "id": "16181934",
   "metadata": {},
   "source": [
    "<h2 align=\"right\">تاکتیک 4: چند شات</h2>\n",
    "<h3>اعلان چند شات تکنیکی در پردازش زبان طبیعی است که در آن به مدل تعداد کمی مثال یا برای درک و ایجاد پاسخ برای یک کار خاص به مدل داده می شود</h3>"
   ]
  },
  {
   "cell_type": "code",
   "execution_count": 8,
   "id": "9b7e626b",
   "metadata": {},
   "outputs": [
    {
     "name": "stdout",
     "output_type": "stream",
     "text": [
      "پدربزرگ: درختی که در برابر بادهای شدید خم می‌شود، از انعطاف پذیری خود نشان می‌دهد. یک رقصنده حرفه‌ای که به آهنگ‌های مختلف رقص می‌کند، از انعطاف پذیری بدنش استفاده می‌کند. همچنین، یک ماشینی که در مسیر متنوعی حرکت می‌کند، نیاز به انعطاف پذیری دارد.\n"
     ]
    }
   ],
   "source": [
    "prompt = f\"\"\"\n",
    "\n",
    "وظیفه شما این است که به یک سبک ثابت پاسخ دهید\n",
    "\n",
    "\n",
    "\n",
    "فرزند: صبر را به من بیاموز\n",
    "پدربزرگ: رودخانه ای که عمیق ترین دره را می‌ \\\n",
    "تراشد از چشم ای معمولی سرچشمه میگیرد \\\n",
    "بزرگ ترین سمفونی از یک نت سرچشمه می گیرد \\\n",
    "پیچیده ترین ملیله با یک نخ منفرد شروع می شود\n",
    "\n",
    "کودک: انعطاف پذیری را به من بیاموز\n",
    "\n",
    "\n",
    "\"\"\"\n",
    "response = get_completion(prompt)\n",
    "print(response)"
   ]
  },
  {
   "cell_type": "code",
   "execution_count": null,
   "id": "8993f6c7",
   "metadata": {},
   "outputs": [],
   "source": []
  }
 ],
 "metadata": {
  "kernelspec": {
   "display_name": "Python 3 (ipykernel)",
   "language": "python",
   "name": "python3"
  },
  "language_info": {
   "codemirror_mode": {
    "name": "ipython",
    "version": 3
   },
   "file_extension": ".py",
   "mimetype": "text/x-python",
   "name": "python",
   "nbconvert_exporter": "python",
   "pygments_lexer": "ipython3",
   "version": "3.10.9"
  }
 },
 "nbformat": 4,
 "nbformat_minor": 5
}
