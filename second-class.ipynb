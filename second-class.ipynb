{
 "cells": [
  {
   "cell_type": "markdown",
   "id": "a0e258b1",
   "metadata": {},
   "source": [
    "<h1 align=\"right\">راهنمایی هایی در مورد اعلان ها</h1>\n",
    "<h3 align=\"right\">!در این بخش ما به دو مورد اصلی یعنی اعلان ها و تکنیک های مربوط به آن ها میپردازیم</h3>\n",
    "<h5 align=\"right\">وارد کردن کد های اولیه</h5>\n",
    "\n"
   ]
  },
  {
   "cell_type": "code",
   "execution_count": 2,
   "id": "cf0dc926",
   "metadata": {},
   "outputs": [],
   "source": [
    "import openai\n",
    "import os\n",
    "from dotenv import load_dotenv, find_dotenv\n",
    "\n",
    "# Load environment variables from the .env file\n",
    "load_dotenv(find_dotenv())\n",
    "\n",
    "\n",
    "openai.api_key  = os.getenv('API_KEY')"
   ]
  },
  {
   "cell_type": "markdown",
   "id": "ef204779",
   "metadata": {},
   "source": [
    "<h1 align=\"right\">تابع کمکی</h1>\n",
    "<h3 align=\"right\">ما در اینجا از تایع کمکی برای تعریف عملکرد مدل استفاده میکنیم</h3>\n",
    "<h3 align=\"right\">مدلی که در این دورهز از آن استفاده میکنیم \n",
    "    GPT 3.5 tURBO </h3>\n"
   ]
  },
  {
   "cell_type": "code",
   "execution_count": 3,
   "id": "e6bacb2d",
   "metadata": {},
   "outputs": [],
   "source": [
    "def get_completion(prompt, model=\"gpt-3.5-turbo\"):\n",
    "    messages = [{\"role\": \"user\", \"content\": prompt}]\n",
    "    response = openai.ChatCompletion.create(\n",
    "        model=model,\n",
    "        messages=messages,\n",
    "        temperature=0, # this is the degree of randomness of the model's output\n",
    "    )\n",
    "    return response.choices[0].message[\"content\"]"
   ]
  },
  {
   "cell_type": "markdown",
   "id": "b132bde3",
   "metadata": {},
   "source": [
    "<h2 align=\"right\">اصل 2: به مدل زمان بدهید تا فکر کند</h2>\n",
    "<h4 align=\"right\">تاکتیک 1: مراحل مورد نیاز برای تکمیل یک کار را مشخص کنید</h4>"
   ]
  },
  {
   "cell_type": "code",
   "execution_count": 9,
   "id": "0f39b364",
   "metadata": {},
   "outputs": [
    {
     "name": "stdout",
     "output_type": "stream",
     "text": [
      "Completion for prompt 1:\n",
      "1 - جک و جیل در یک دهکده جذاب برای آوردن آب از چاه تلاش می کنند، اما در این راه آسیب می بینند و به خانه باز می گردند.\n",
      "2 - Jack and Jill are trying to fetch water from a well in a charming village, but they get injured and return home.\n",
      "3 - Jack, Jill\n",
      "4 - {\n",
      "    \"خلاصه ای به انگلیسی\": \"Jack and Jill are trying to fetch water from a well in a charming village, but they get injured and return home.\",\n",
      "    \"num_names\": 2\n",
      "}\n"
     ]
    }
   ],
   "source": [
    "text = f\"\"\"\n",
    "در یک دهکده جذاب، خواهر و برادری به نام های جک و جیل\n",
    "برای آوردن آب از یک چاه در بالای تپه تلاش می کردند\n",
    "همانطور که آنها بالا می رفتند و با شادی آواز می خواندند، اتفاق ناگواری رخ داد،\n",
    "جک روی سنگی زمین خورد و از تپه پایین افتاد و جیل نیز به دنبال آن دوید.\n",
    "اگرچه این زوج کمی آسیب دیده بودند، اما به خانه بازگشتند\n",
    "آغوش های آرامش بخش با وجود این اتفاق ناگوار،\n",
    "روحیه ماجراجوی آنها تضعیف نشد.\n",
    "آن دو به کاوش خود باز هم ادامه دادند.\n",
    "\"\"\"\n",
    "# example 1\n",
    "prompt_1 = f\"\"\"\n",
    "اقدامات زیر را انجام دهید:\n",
    "1 - متن بالا را که با بکتیک های سه گانه مشخص شده اند را در یک جمله خلاصه کنید.\n",
    "2 - خلاصه را به انگلیسی ترجمه کنید.\n",
    "3 - هر نام را در خلاصه انگلیسی فهرست کنید.\n",
    "4 - خروجی یک شی json که حاوی کلیدهای زیر است:\n",
    "خلاصه ای به انگلیسی , num_names.\n",
    "\n",
    "پاسخ های خود را با شکست خط جدا کنید.\n",
    "\n",
    "Text:\n",
    "```{text}```\n",
    "\"\"\"\n",
    "response = get_completion(prompt_1)\n",
    "print(\"Completion for prompt 1:\")\n",
    "print(response)"
   ]
  },
  {
   "cell_type": "markdown",
   "id": "109a030e",
   "metadata": {},
   "source": [
    "<h2 align=\"right\">خروجی را در قالب مشخصی بخواهید</h2>"
   ]
  },
  {
   "cell_type": "code",
   "execution_count": 10,
   "id": "de964401",
   "metadata": {},
   "outputs": [
    {
     "name": "stdout",
     "output_type": "stream",
     "text": [
      "\n",
      "Completion for prompt 2:\n",
      "متن: در یک دهکده جذاب، خواهر و برادری به نام های جک و جیل برای آوردن آب از یک چاه در بالای تپه تلاش می کردند. همانطور که آنها بالا می رفتند و با شادی آواز می خواندند، اتفاق ناگواری رخ داد، جک روی سنگی زمین خورد و از تپه پایین افتاد و جیل نیز به دنبال آن دوید. اگرچه این زوج کمی آسیب دیده بودند، اما به خانه بازگشتند. آغوش های آرامش بخش با وجود این اتفاق ناگوار، روحیه ماجراجوی آنها تضعیف نشد. آن دو به کاوش خود باز هم ادامه دادند.\n",
      "\n",
      "خلاصه: در یک دهکده جذاب، جک و جیل برای آوردن آب از چاه تلاش می کنند. جک از تپه پایین افتاد و جیل به دنبال او می دوید. با وجود این اتفاق ناگوار، آنها به خانه بازگشتند و روحیه ماجراجوی آنها تضعیف نشد. آنها به کاوش خود ادامه دادند.\n",
      "\n",
      "ترجمه: In an enchanting village, a brother and sister named Jack and Jill are trying to fetch water from a well on top of a hill. As they climb up and sing joyfully, an unfortunate incident occurs. Jack trips on a rock and falls down the hill, and Jill runs after him. Although this couple is slightly injured, they return home. Despite this unfortunate event, their adventurous spirit remains strong. They continue their exploration.\n",
      "\n",
      "نام ها: جک، جیل\n",
      "\n",
      "خروجی JSON:\n",
      "{\n",
      "  \"English_summary\": \"In an enchanting village, Jack and Jill are trying to fetch water from a well on top of a hill. As they climb up and sing joyfully, an unfortunate incident occurs. Jack trips on a rock and falls down the hill, and Jill runs after him. Although this couple is slightly injured, they return home. Despite this unfortunate event, their adventurous spirit remains strong. They continue their exploration.\",\n",
      "  \"num_names\": 2\n",
      "}\n"
     ]
    }
   ],
   "source": [
    "prompt_2 = f\"\"\"\n",
    "\n",
    "وظیفه تو انجام اقدامات زیر است:\n",
    "\n",
    "1 - متن زیر را که با <> مشخص شده است را در یک جمله خلاصه کنید.\n",
    "2 - خلاصه را به انگلیسی ترجمه کنید.\n",
    "3 - هر نام را در خلاصه انگلیسی فهرست کنید.\n",
    "4 - خروجی یک شی json که حاوی کلیدهای زیر است:\n",
    "English_summary, num_names.\n",
    "\n",
    "از فرمت زیر استفاده کنید:\n",
    "\n",
    "متن:متن برای خلاصه کردن\n",
    "خلاصه:خلاصه\n",
    "ترجمه:ترجمه خلاصه\n",
    "نام ها:لیست اسامی به صورت خلاصه\n",
    "\n",
    "خروجی JSON:\n",
    "<json با خلاصه و num_names>\n",
    " \n",
    "متن: <{text}>\n",
    "  \"\"\"\n",
    "response = get_completion(prompt_2)\n",
    "print(\"\\nCompletion for prompt 2:\")\n",
    "print(response)"
   ]
  },
  {
   "cell_type": "markdown",
   "id": "3773ad5e",
   "metadata": {},
   "source": [
    "<h2 align=\"right\">تاکتیک 2: به مدل آموزش دهید تا قبل از عجله در نتیجه گیری، راه حل خود را بیابد</h2>"
   ]
  },
  {
   "cell_type": "code",
   "execution_count": 16,
   "id": "dfb243e5",
   "metadata": {},
   "outputs": [
    {
     "name": "stdout",
     "output_type": "stream",
     "text": [
      "راه حل دانشجو درست است. هزینه کل برای سال اول عملیات به عنوان تابعی از تعداد فوت مربع، 450x + 100000 است.\n"
     ]
    }
   ],
   "source": [
    "prompt = f\"\"\"\n",
    "مشخص کنید که راه حل دانش آموز درست است یا خیر.\n",
    "\n",
    "سوال:\n",
    "من در حال ساختن یک تاسیسات برق خورشیدی هستم و برای انجام امور مالی به کمک نیاز دارم.\n",
    "- قیمت زمین 100 دلار در فوت مربع\n",
    "- من می توانم پنل های خورشیدی را با قیمت 250 دلار در فوت مربع بخرم\n",
    "- من یک قرارداد برای تعمیر و نگهداری مذاکره کردم که برای من 100 هزار دلار در سال هزینه دارد و 10 دلار در هر فوت مربع\n",
    "هزینه کل برای سال اول عملیات به عنوان تابعی از تعداد فوت مربع چقدر است.\n",
    "\n",
    "راه حل دانشجو:\n",
    "اجازه دهید x اندازه نصب بر حسب فوت مربع باشد.\n",
    "هزینه ها:\n",
    "1. هزینه زمین: 100x\n",
    "2. هزینه پنل خورشیدی: 250x\n",
    "3. هزینه نگهداری: 100000 + 100x\n",
    "هزینه کل: 100x + 250x + 100000 + 100x = 450x + 100000\n",
    "\"\"\"\n",
    "response = get_completion(prompt)\n",
    "print(response)"
   ]
  },
  {
   "cell_type": "markdown",
   "id": "7ca941eb",
   "metadata": {},
   "source": [
    "<h2 align=\"right\">توجه داشته باشید که راه حل دانش آموز در واقع صحیح نیست</h2>\n",
    "<h4 align=\"right\">ما می توانیم این مشکل را با دستور دادن به مدل برای حل خودش حل کنیم</h4>"
   ]
  },
  {
   "cell_type": "code",
   "execution_count": 20,
   "id": "78dbc207",
   "metadata": {},
   "outputs": [
    {
     "name": "stdout",
     "output_type": "stream",
     "text": [
      "مراحل کار برای یافتن راه حل و راه حل شما:\n",
      "1. محاسبه هزینه زمین: 100 دلار ضربدر تعداد فوت مربع\n",
      "2. محاسبه هزینه پنل خورشیدی: 250 دلار ضربدر تعداد فوت مربع\n",
      "3. محاسبه هزینه نگهداری: 100,000 دلار + 10 دلار ضربدر تعداد فوت مربع\n",
      "4. جمع کردن هزینه های بالا برای محاسبه هزینه کل\n",
      "\n",
      "آیا راه حل دانش آموز همان راه حل واقعی است که فقط محاسبه شده است:\n",
      "نه\n",
      "\n",
      "نمره دانش آموز:\n",
      "نادرست\n"
     ]
    }
   ],
   "source": [
    "prompt = f\"\"\"\n",
    "وظیفه شما این است که تعیین کنید که ایا راه حل دانش اموز\n",
    "درست است یا نه.\n",
    "\n",
    "برای حل مشکل، کارهای زیر را انجام دهید:\n",
    "\n",
    "اول، راه حل خود را برای مشکل از جمله مجموع نهایی پیدا کنید. \n",
    "- سپس راه حل خود را با راه حل دانش اموز مقایسه کنید \n",
    "و ارزیابی کنید که ایا راه حل دانش اموز درست است یا نه\n",
    "\n",
    "تصمیم نگیرید که ایا راه حل دانش اموز درست است یا خیر تا زمانی که \n",
    "مشکل را خودتان حل کرده باشید.\n",
    "\n",
    "از قالب زیر استفاده کنید:\n",
    "سوال:\n",
    "```\n",
    "سوال در اینجا\n",
    "```\n",
    "راه حل دانشجویی:\n",
    "```\n",
    "راه حل دانشجو در اینجا\n",
    "```\n",
    "راه حل واقعی:\n",
    "```\n",
    "مراحل کار برای یافتن راه حل و راه حل شما در اینجا\n",
    "```\n",
    "آیا راه حل دانش آموز همان راه حل واقعی است که فقط محاسبه شده است:\n",
    "```\n",
    "آره یا نه\n",
    "```\n",
    "نمره دانش آموز:\n",
    "```\n",
    "درست یا نادرست\n",
    "```\n",
    "\n",
    "سوال:\n",
    "```\n",
    "من در حال ساختن یک تاسیسات برق خورشیدی هستم و برای انجام امور مالی به کمک نیاز دارم.\n",
    "- قیمت زمین 100 دلار در فوت مربع\n",
    "- من می توانم پنل های خورشیدی را با قیمت 250 دلار در فوت مربع بخرم\n",
    "- من یک قرارداد برای تعمیر و نگهداری مذاکره کردم که برای من 100 هزار دلار در سال هزینه دارد و 10 دلار اضافی برای هر فوت مربع\n",
    "هزینه کل برای سال اول عملیات به عنوان تابعی از تعداد فوت مربع چقدر است.\n",
    "```\n",
    "راه حل دانشجو:\n",
    "```\n",
    "اجازه دهید x اندازه نصب بر حسب فوت مربع باشد.\n",
    "هزینه ها:\n",
    "1. هزینه زمین:\n",
    "100x\n",
    "2. هزینه پنل خورشیدی:\n",
    "250x\n",
    "3. هزینه نگهداری:\n",
    "100,000 + 100x\n",
    "هزینه کل:\n",
    "100x + 250x + 100,000 + 100x = 450x + 100,000\n",
    "```\n",
    "راه حل واقعی:\n",
    "\"\"\"\n",
    "response = get_completion(prompt)\n",
    "print(response)"
   ]
  },
  {
   "cell_type": "markdown",
   "id": "a49dba03",
   "metadata": {},
   "source": [
    "<h2 align=\"right\">محدودیت های مدل:توهم</h2>\n",
    "<h4 align=\"right\">Boie یک شرکت واقعی است،اما محصول واقعی نیست</h4>"
   ]
  },
  {
   "cell_type": "code",
   "execution_count": 21,
   "id": "a60b1b3d",
   "metadata": {},
   "outputs": [
    {
     "name": "stdout",
     "output_type": "stream",
     "text": [
      "مسواک هوشمند AeroGlide UltraSlim توسط Boie یک مسواک بسیار نازک و هوشمند است که طراحی آن برای بهبود بهداشت دهان و دندان ها ساخته شده است. این مسواک دارای سری بسیار نرم و بدون مو است که باعث می شود تا به طور موثر تر و بدون آسیب به لثه ها و دندان ها تمیز کند.\n",
      "\n",
      "یکی از ویژگی های برجسته این مسواک، طراحی هوشمند آن است. AeroGlide UltraSlim با استفاده از تکنولوژی هوشمند، به طور خودکار شما را هشدار می دهد که زمان تعویض سر مسواک رسیده است. این ویژگی بسیار مفید است زیرا بسیاری از افراد به طور نادرست از مسواک های فرسوده استفاده می کنند که می تواند به بهداشت دهان و دندان ها آسیب برساند.\n",
      "\n",
      "علاوه بر این، مسواک AeroGlide UltraSlim دارای ساختار ضد باکتری است که به کاهش رشد باکتری ها و میکروب ها در سر مسواک کمک می کند. این ویژگی به شما اطمینان می دهد که هر بار که از مسواک استفاده می کنید، دهان و دندان هایتان در تماس با باکتری ها و میکروب ها قرار نمی گیرند.\n",
      "\n",
      "همچنین، مسواک AeroGlide UltraSlim دارای دسته ارگونومیک است که به شما امکان می دهد به راحتی و به طور دقیق دندان ها و لثه ها را تمیز کنید. این دسته طراحی شده است تا به شما احساس راحتی و کنترل بیشتری در هنگام مسواک زدن بدهد.\n",
      "\n",
      "در کل، مسواک هوشمند AeroGlide UltraSlim توسط Boie یک انتخاب عالی برای بهبود بهداشت دهان و دندان ها است. با ویژگی های هوشمندانه، ساختار ضد باکتری و طراحی ارگونومیک، این مسواک می تواند به شما کمک کند تا به طور موثر تر و بهتر دهان و دندان هایتان را تمیز کنید.\n"
     ]
    }
   ],
   "source": [
    "prompt = f\"\"\"\n",
    "در مورد مسواک هوشمند \n",
    "AeroGlide UltraSlim \n",
    "توسط \n",
    "Boie \n",
    "به من بگویید\n",
    "\"\"\"\n",
    "response = get_completion(prompt)\n",
    "print(response)"
   ]
  },
  {
   "cell_type": "code",
   "execution_count": null,
   "id": "8993f6c7",
   "metadata": {},
   "outputs": [],
   "source": []
  }
 ],
 "metadata": {
  "kernelspec": {
   "display_name": "Python 3 (ipykernel)",
   "language": "python",
   "name": "python3"
  },
  "language_info": {
   "codemirror_mode": {
    "name": "ipython",
    "version": 3
   },
   "file_extension": ".py",
   "mimetype": "text/x-python",
   "name": "python",
   "nbconvert_exporter": "python",
   "pygments_lexer": "ipython3",
   "version": "3.10.9"
  }
 },
 "nbformat": 4,
 "nbformat_minor": 5
}
