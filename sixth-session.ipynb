{
 "cells": [
  {
   "cell_type": "markdown",
   "id": "7a003bc1",
   "metadata": {},
   "source": [
    "<h3 align=\"right\">جلسه ششم</h3>"
   ]
  },
  {
   "cell_type": "markdown",
   "id": "12f2c098",
   "metadata": {},
   "source": [
    "<h2 align=\"right\">تبدیل کردن</h2>\n",
    "<h4 align=\"right\">در این نوت بوک، نحوه استفاده از مدل های زبان بزرگ برای کارهای تبدیل متن مانند ترجمه زبان،\n",
    "    بررسی املا و دستور زبان، تنظیم لحن <br>و تبدیل قالب را بررسی خواهیم کرد</h4>"
   ]
  },
  {
   "cell_type": "code",
   "execution_count": 2,
   "id": "fba805da",
   "metadata": {},
   "outputs": [],
   "source": [
    "import openai\n",
    "import os\n",
    "from dotenv import load_dotenv, find_dotenv\n",
    "\n",
    "# Load environment variables from the .env file\n",
    "load_dotenv(find_dotenv())\n",
    "\n",
    "\n",
    "openai.api_key  = os.getenv('API_KEY')"
   ]
  },
  {
   "cell_type": "code",
   "execution_count": 3,
   "id": "8d42d4d6",
   "metadata": {},
   "outputs": [],
   "source": [
    "def get_completion(prompt, model=\"gpt-3.5-turbo\",temperature=0):\n",
    "    messages = [{\"role\": \"user\", \"content\": prompt}]\n",
    "    response = openai.ChatCompletion.create(\n",
    "        model=model,\n",
    "        messages=messages,\n",
    "        temperature=temperature,\n",
    "    )\n",
    "    return response.choices[0].message[\"content\"]"
   ]
  },
  {
   "cell_type": "markdown",
   "id": "8fde754a",
   "metadata": {},
   "source": [
    "<h2 align=\"right\">ترجمه</h2>\n",
    "<h4 align=\"right\">چت جی پی تی با منابع به زبان های مختلف آموزش داده شده است. این به مدل توانایی انجام ترجمه را می دهد. در اینجا چند نمونه از نحوه استفاده از این قابلیت آورده شده است</h4>"
   ]
  },
  {
   "cell_type": "code",
   "execution_count": 3,
   "id": "906b74bb",
   "metadata": {},
   "outputs": [
    {
     "name": "stdout",
     "output_type": "stream",
     "text": [
      "Hola, me gustaría pedir una licuadora.\n"
     ]
    }
   ],
   "source": [
    "prompt = f\"\"\"\n",
    "متن انگلیسی زیر را به اسپانیایی ترجمه کنید:\n",
    "```Hi, I would like to order a blender```\n",
    "\"\"\"\n",
    "response = get_completion(prompt)\n",
    "print(response)"
   ]
  },
  {
   "cell_type": "code",
   "execution_count": 4,
   "id": "ad635aac",
   "metadata": {},
   "outputs": [
    {
     "name": "stdout",
     "output_type": "stream",
     "text": [
      "این جمله به زبان فرانسوی است.\n"
     ]
    }
   ],
   "source": [
    "prompt = f\"\"\"\n",
    "به من بگویید این کدام زبان است: \n",
    "```Combien coûte le lampadaire?```   \n",
    "\"\"\"\n",
    "# قیمت چراغ چقدر است؟\n",
    "response = get_completion(prompt)\n",
    "print(response)"
   ]
  },
  {
   "cell_type": "code",
   "execution_count": 6,
   "id": "245fe946",
   "metadata": {},
   "outputs": [
    {
     "name": "stdout",
     "output_type": "stream",
     "text": [
      "فرانسوی: Je veux commander une voiture\n",
      "فارسی: من میخواهم یک ماشین سفارش دهم\n",
      "انگلیسی: I want to order a car\n"
     ]
    }
   ],
   "source": [
    "prompt = f\"\"\"\n",
    "متن زیر را به فرانسوی و فارسی و انگلیسی دزد دریایی ترجمه کنید: \\\n",
    "```I want to order a car```\n",
    "\"\"\"\n",
    "response = get_completion(prompt)\n",
    "print(response)"
   ]
  },
  {
   "cell_type": "code",
   "execution_count": 9,
   "id": "961fe721",
   "metadata": {},
   "outputs": [
    {
     "name": "stdout",
     "output_type": "stream",
     "text": [
      "رسمی: آیا مایلید یک دوچرخه سفارش دهید؟\n",
      "غیر رسمی: دوچرخه سفارش می‌دهی؟\n"
     ]
    }
   ],
   "source": [
    "prompt = f\"\"\"\n",
    "متن زیر را به دو شکل رسمی و غیر رسمی به فارسی ترجمه کنید:\n",
    "'Would you like to order a bike?'\n",
    "\"\"\"\n",
    "response = get_completion(prompt)\n",
    "print(response)"
   ]
  },
  {
   "cell_type": "markdown",
   "id": "fd78a0c5",
   "metadata": {},
   "source": [
    "<h2 align=\"right\">مترجم جهانی</h2>\n",
    "<h4 align=\"right\">تصور کنید در یک شرکت بزرگ تجارت الکترونیک چندملیتی مسئول فناوری اطلاعات هستید. کاربران به همه زبان های مادری خود در مورد مسائل فناوری اطلاعات به شما پیام می دهند</h4>\n",
    "<h4 align=\"right\">کارکنان شما از سراسر جهان هستند و فقط به زبان مادری خود صحبت می کنند. شما به یک مترجم جهانی نیاز دارید</h4>"
   ]
  },
  {
   "cell_type": "code",
   "execution_count": 10,
   "id": "1b45fd03",
   "metadata": {},
   "outputs": [],
   "source": [
    "user_messages = [\n",
    "  \"La performance du système est plus lente que d'habitude.\",  # عملکرد سیستم کندتر از حد معمول است        \n",
    "  \"Mi monitor tiene píxeles que no se iluminan.\",              # مانیتور من پیکسل هایی دارد که روشن نمی شوند\n",
    "  \"Il mio mouse non funziona\",                                 # ماوس من کار نمی کند\n",
    "  \"Mój klawisz Ctrl jest zepsuty\",                             # صفحه کلید من یک کلید کنترل خراب است\n",
    "  \"我的屏幕在闪烁\"                                              # صفحه نمایش من چشمک می زند\n",
    "] "
   ]
  },
  {
   "cell_type": "code",
   "execution_count": 11,
   "id": "55599283",
   "metadata": {},
   "outputs": [
    {
     "name": "stdout",
     "output_type": "stream",
     "text": [
      "Original message (The language is French.): La performance du système est plus lente que d'habitude.\n",
      "The performance of the system is slower than usual.\n",
      "\n",
      "시스템의 성능이 평소보다 느립니다. \n",
      "\n",
      "Original message (The language is Spanish.): Mi monitor tiene píxeles que no se iluminan.\n",
      "English translation: \"My monitor has pixels that do not light up.\"\n",
      "\n",
      "Korean translation: \"내 모니터에는 밝아지지 않는 픽셀이 있습니다.\" (Nae moniteoeneun balkaji-ji-anhneun piksel-i issseumnida.) \n",
      "\n",
      "Original message (The language is Italian.): Il mio mouse non funziona\n",
      "English: \"My mouse is not working.\"\n",
      "Korean: \"내 마우스가 작동하지 않습니다.\" \n",
      "\n",
      "Original message (The language is Polish.): Mój klawisz Ctrl jest zepsuty\n",
      "English: \"My Ctrl key is broken\"\n",
      "Korean: \"내 Ctrl 키가 고장 났어요\" \n",
      "\n",
      "Original message (The language is Chinese.): 我的屏幕在闪烁\n",
      "English: My screen is flickering.\n",
      "Korean: 내 화면이 깜박거립니다. \n",
      "\n"
     ]
    }
   ],
   "source": [
    "for issue in user_messages:\n",
    "    prompt = f\"Tell me what language this is: ```{issue}```\"\n",
    "    lang = get_completion(prompt)\n",
    "    print(f\"Original message ({lang}): {issue}\")\n",
    "\n",
    "    prompt = f\"\"\"\n",
    "    Translate the following  text to English \\\n",
    "    and Korean: ```{issue}```\n",
    "    \"\"\"\n",
    "    response = get_completion(prompt)\n",
    "    print(response, \"\\n\")"
   ]
  },
  {
   "cell_type": "markdown",
   "id": "df4c6b50",
   "metadata": {},
   "source": [
    "<h2 align=\"right\">تبدیل لحن</h2>\n",
    "<h4 align=\"right\">نوشتن بر اساس مخاطب مورد نظر می تواند متفاوت باشد. مدل می تواند لحن مختلفی تولید کند</h4>"
   ]
  },
  {
   "cell_type": "code",
   "execution_count": 15,
   "id": "2e899974",
   "metadata": {},
   "outputs": [
    {
     "name": "stdout",
     "output_type": "stream",
     "text": [
      "Dear Sir/Madam,\n",
      "\n",
      "I hope this letter finds you well. My name is Joe, and I am writing to bring your attention to a specification document regarding a standing lamp. \n",
      "\n",
      "I kindly request that you take a moment to review the attached spec, as it contains important details and information about the aforementioned product. \n",
      "\n",
      "Thank you for your time and consideration. I look forward to hearing from you soon.\n",
      "\n",
      "Yours sincerely,\n",
      "Joe\n"
     ]
    }
   ],
   "source": [
    "prompt = f\"\"\"\n",
    "Translate the following from slang to a business letter:\n",
    "'Dude, This is Joe, check out this spec on this standing lamp.'\n",
    "\"\"\"\n",
    "response = get_completion(prompt)\n",
    "print(response)"
   ]
  },
  {
   "cell_type": "markdown",
   "id": "f686a9ae",
   "metadata": {},
   "source": [
    "<h2 align=\"right\">تبدیل فرمت</h2>\n",
    "<h4 align=\"right\">مدل می تواند بین فرمت ها ترجمه کند. اعلان باید فرمت های ورودی و خروجی را توصیف کند</h4>"
   ]
  },
  {
   "cell_type": "code",
   "execution_count": 9,
   "id": "84787813",
   "metadata": {},
   "outputs": [
    {
     "name": "stdout",
     "output_type": "stream",
     "text": [
      "<!DOCTYPE html>\n",
      "<html>\n",
      "<head>\n",
      "<style>\n",
      "table {\n",
      "  font-family: arial, sans-serif;\n",
      "  border-collapse: collapse;\n",
      "  width: 100%;\n",
      "}\n",
      "\n",
      "td, th {\n",
      "  border: 1px solid #dddddd;\n",
      "  text-align: left;\n",
      "  padding: 8px;\n",
      "}\n",
      "\n",
      "tr:nth-child(even) {\n",
      "  background-color: #dddddd;\n",
      "}\n",
      "</style>\n",
      "</head>\n",
      "<body>\n",
      "\n",
      "<h2>ترجمه</h2>\n",
      "\n",
      "<table>\n",
      "  <tr>\n",
      "    <th>نام</th>\n",
      "    <th>ایمیل</th>\n",
      "  </tr>\n",
      "  <tr>\n",
      "    <td>آراد</td>\n",
      "    <td>aradrahmani@gmail.com</td>\n",
      "  </tr>\n",
      "  <tr>\n",
      "    <td>مهدی</td>\n",
      "    <td>mahdi3035@gmail.com</td>\n",
      "  </tr>\n",
      "  <tr>\n",
      "    <td>سمانه</td>\n",
      "    <td>samaneh.rezae@gmail.com</td>\n",
      "  </tr>\n",
      "</table>\n",
      "\n",
      "</body>\n",
      "</html>\n"
     ]
    }
   ],
   "source": [
    "data_json = { \"resturant employees\" :[ \n",
    "    {\"name\":\"آراد\", \"email\":\"aradrahmani@gmail.com\"},\n",
    "    {\"name\":\"مهدی\", \"email\":\"mahdi3035@gmail.com\"},\n",
    "    {\"name\":\"سمانه\", \"email\":\"samaneh.rezae@gmail.com\"}\n",
    "]}\n",
    "\n",
    "prompt = f\"\"\"\n",
    "دیکشنری پایتون زیر را از\n",
    "JSON\n",
    "به یک جدول \n",
    "HTML\n",
    "با سرصفحه و عنوان ستون ترجمه کنید: {data_json}\n",
    "\"\"\"\n",
    "response = get_completion(prompt)\n",
    "print(response)"
   ]
  },
  {
   "cell_type": "code",
   "execution_count": 10,
   "id": "8d217157",
   "metadata": {},
   "outputs": [
    {
     "data": {
      "text/html": [
       "<!DOCTYPE html>\n",
       "<html>\n",
       "<head>\n",
       "<style>\n",
       "table {\n",
       "  font-family: arial, sans-serif;\n",
       "  border-collapse: collapse;\n",
       "  width: 100%;\n",
       "}\n",
       "\n",
       "td, th {\n",
       "  border: 1px solid #dddddd;\n",
       "  text-align: left;\n",
       "  padding: 8px;\n",
       "}\n",
       "\n",
       "tr:nth-child(even) {\n",
       "  background-color: #dddddd;\n",
       "}\n",
       "</style>\n",
       "</head>\n",
       "<body>\n",
       "\n",
       "<h2>ترجمه</h2>\n",
       "\n",
       "<table>\n",
       "  <tr>\n",
       "    <th>نام</th>\n",
       "    <th>ایمیل</th>\n",
       "  </tr>\n",
       "  <tr>\n",
       "    <td>آراد</td>\n",
       "    <td>aradrahmani@gmail.com</td>\n",
       "  </tr>\n",
       "  <tr>\n",
       "    <td>مهدی</td>\n",
       "    <td>mahdi3035@gmail.com</td>\n",
       "  </tr>\n",
       "  <tr>\n",
       "    <td>سمانه</td>\n",
       "    <td>samaneh.rezae@gmail.com</td>\n",
       "  </tr>\n",
       "</table>\n",
       "\n",
       "</body>\n",
       "</html>"
      ],
      "text/plain": [
       "<IPython.core.display.HTML object>"
      ]
     },
     "metadata": {},
     "output_type": "display_data"
    }
   ],
   "source": [
    "from IPython.display import display, Markdown, Latex, HTML, JSON\n",
    "display(HTML(response))"
   ]
  },
  {
   "cell_type": "markdown",
   "id": "37f5bccb",
   "metadata": {},
   "source": [
    "<h2 align=\"right\">بررسی املا / گرامر</h2>\n",
    "<h4 align=\"right\">در اینجا چند نمونه از مشکلات رایج گرامری و املایی و پاسخ مدل آورده شده است</h4>\n",
    "<h4 align=\"right\">برای اینکه به مدل پیام دهید که می‌خواهید متن شما را تصحیح کند، به مدل دستور می‌دهید که «تصحیح» یا اصلاح و تصحیح شود</h4>\n"
   ]
  },
  {
   "cell_type": "code",
   "execution_count": 24,
   "id": "94f02fc7",
   "metadata": {},
   "outputs": [
    {
     "name": "stdout",
     "output_type": "stream",
     "text": [
      "The girl with the black and white puppies has a ball.\n",
      "No errors found.\n",
      "It's going to be a long day. Does the car need its oil changed?\n",
      "There goes my freedom. They're going to bring their suitcases.\n",
      "You're going to need your notebook.\n",
      "That medicine affects my ability to sleep. Have you heard of the butterfly effect?\n",
      "This phrase is to check chatGPT for spelling ability.\n"
     ]
    }
   ],
   "source": [
    "text = [ \n",
    "  \"The girl with the black and white puppies have a ball.\", \n",
    "  \"Yolanda has her notebook.\",\n",
    "  \"Its going to be a long day. Does the car need it’s oil changed?\",  \n",
    "  \"Their goes my freedom. There going to bring they’re suitcases.\",\n",
    "  \"Your going to need you’re notebook.\",\n",
    "  \"That medicine effects my ability to sleep. Have you heard of the butterfly affect?\",\n",
    "  \"This phrase is to cherck chatGPT for speling abilitty\" \n",
    "]\n",
    "for t in text:\n",
    "    prompt = f\"\"\"Proofread and correct the following text\n",
    "    and rewrite the corrected version. If you don't find\n",
    "    and errors, just say \"No errors found\". Don't use \n",
    "    any punctuation around the text:\n",
    "    ```{t}```\"\"\"\n",
    "    response = get_completion(prompt)\n",
    "    print(response)"
   ]
  },
  {
   "cell_type": "code",
   "execution_count": 12,
   "id": "da6055be",
   "metadata": {},
   "outputs": [
    {
     "name": "stdout",
     "output_type": "stream",
     "text": [
      "Got this for my daughter for her birthday because she keeps taking mine from my room. Yes, adults also like pandas too. She takes it everywhere with her, and it's super soft and cute. However, one of the ears is a bit lower than the other, and I don't think that was designed to be asymmetrical. Additionally, it's a bit small for what I paid for it. I believe there might be other options that are bigger for the same price. On the positive side, it arrived a day earlier than expected, so I got to play with it myself before I gave it to my daughter.\n"
     ]
    }
   ],
   "source": [
    "text = f\"\"\"\n",
    "Got this for my daughter for her birthday cuz she keeps taking \\\n",
    "mine from my room.  Yes, adults also like pandas too.  She takes \\\n",
    "it everywhere with her, and it's super soft and cute.  One of the \\\n",
    "ears is a bit lower than the other, and I don't think that was \\\n",
    "designed to be asymmetrical. It's a bit small for what I paid for it \\\n",
    "though. I think there might be other options that are bigger for \\\n",
    "the same price.  It arrived a day earlier than expected, so I got \\\n",
    "to play with it myself before I gave it to my daughter.\n",
    "\"\"\"\n",
    "prompt = f\"proofread and correct this review: ```{text}```\"\n",
    "response = get_completion(prompt)\n",
    "print(response)"
   ]
  },
  {
   "cell_type": "code",
   "execution_count": 13,
   "id": "dcd8978c",
   "metadata": {},
   "outputs": [
    {
     "data": {
      "text/markdown": [
       "Got this for my daughter for her birthday <span style='color:red;font-weight:700;text-decoration:line-through;'>cuz </span><span style='color:green;font-weight:700;'>because </span>she keeps taking mine from my <span style='color:red;font-weight:700;text-decoration:line-through;'>room.  </span><span style='color:green;font-weight:700;'>room. </span>Yes, adults also like pandas <span style='color:red;font-weight:700;text-decoration:line-through;'>too.  </span><span style='color:green;font-weight:700;'>too. </span>She takes it everywhere with her, and it's super soft and <span style='color:red;font-weight:700;text-decoration:line-through;'>cute.  One </span><span style='color:green;font-weight:700;'>cute. However, one </span>of the ears is a bit lower than the other, and I don't think that was designed to be asymmetrical. <span style='color:red;font-weight:700;text-decoration:line-through;'>It's </span><span style='color:green;font-weight:700;'>Additionally, it's </span>a bit small for what I paid for <span style='color:red;font-weight:700;text-decoration:line-through;'>it though. </span><span style='color:green;font-weight:700;'>it. </span>I <span style='color:red;font-weight:700;text-decoration:line-through;'>think </span><span style='color:green;font-weight:700;'>believe </span>there might be other options that are bigger for the same <span style='color:red;font-weight:700;text-decoration:line-through;'>price.  It </span><span style='color:green;font-weight:700;'>price. On the positive side, it </span>arrived a day earlier than expected, so I got to play with it myself before I gave it to my daughter."
      ],
      "text/plain": [
       "<IPython.core.display.Markdown object>"
      ]
     },
     "metadata": {},
     "output_type": "display_data"
    }
   ],
   "source": [
    "from redlines import Redlines\n",
    "\n",
    "diff = Redlines(text,response)\n",
    "display(Markdown(diff.output_markdown))"
   ]
  },
  {
   "cell_type": "code",
   "execution_count": null,
   "id": "474ffff2",
   "metadata": {},
   "outputs": [],
   "source": []
  }
 ],
 "metadata": {
  "kernelspec": {
   "display_name": "Python 3 (ipykernel)",
   "language": "python",
   "name": "python3"
  },
  "language_info": {
   "codemirror_mode": {
    "name": "ipython",
    "version": 3
   },
   "file_extension": ".py",
   "mimetype": "text/x-python",
   "name": "python",
   "nbconvert_exporter": "python",
   "pygments_lexer": "ipython3",
   "version": "3.10.9"
  }
 },
 "nbformat": 4,
 "nbformat_minor": 5
}
