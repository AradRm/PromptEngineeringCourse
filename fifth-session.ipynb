{
 "cells": [
  {
   "cell_type": "markdown",
   "id": "fa806f4c",
   "metadata": {},
   "source": [
    "<h1 align=\"right\">جلسه پنجم<h1>\n",
    "<h3 align=\"right\">استنباط کردن</h3>\n",
    "<h4 align=\"right\">.در این درس، احساسات و موضوعات را از بررسی محصول و مقالات خبری استنتاج خواهید کرد</h4>"
   ]
  },
  {
   "cell_type": "code",
   "execution_count": 1,
   "id": "82dfa68a",
   "metadata": {},
   "outputs": [],
   "source": [
    "import openai\n",
    "import os\n",
    "from dotenv import load_dotenv, find_dotenv\n",
    "\n",
    "# Load environment variables from the .env file\n",
    "load_dotenv(find_dotenv())\n",
    "\n",
    "\n",
    "openai.api_key  = os.getenv('API_KEY')"
   ]
  },
  {
   "cell_type": "code",
   "execution_count": 2,
   "id": "bc1fafb9",
   "metadata": {},
   "outputs": [],
   "source": [
    "def get_completion(prompt, model=\"gpt-3.5-turbo\"):\n",
    "    messages = [{\"role\": \"user\", \"content\": prompt}]\n",
    "    response = openai.ChatCompletion.create(\n",
    "        model=model,\n",
    "        messages=messages,\n",
    "        temperature=0, # this is the degree of randomness of the model's output\n",
    "    )\n",
    "    return response.choices[0].message[\"content\"]"
   ]
  },
  {
   "cell_type": "markdown",
   "id": "b261392f",
   "metadata": {},
   "source": [
    "<h2 align=\"right\">متن بررسی محصول</h2>"
   ]
  },
  {
   "cell_type": "code",
   "execution_count": 3,
   "id": "c969fbd2",
   "metadata": {},
   "outputs": [],
   "source": [
    "lamp_review = \"\"\"\n",
    "به یک لامپ خوب برای اتاق خوابم نیاز داشتم، و این لامپ\n",
    "\\ فضای ذخیره سازی اضافی داشت و قیمت آن خیلی بالا نبود.\n",
    "\\ طناب لامپ ما در حین حمل و نقل پاره شد،سریع متوجه شدم و شرکت با خوشحالی یک چراغ جدید ارسال کرد\n",
    "\\ .در عرض چند روز نیز آمد. جمع کردن آسان بود\n",
    "\\ .من متوجه یک قطعه گم شده شدم و بنابراین با پشتیبانی آنها تماس گرفتم و آنها خیلی سریع قطعه گم شده را به من دادند\n",
    "\\ !!لومینا به نظر من یک شرکت بزرگ است که به مشتریان و محصولات خود اهمیت می دهد\n",
    "\"\"\""
   ]
  },
  {
   "cell_type": "markdown",
   "id": "dbca1a35",
   "metadata": {},
   "source": [
    "<h2 align=\"right\">احساسات (مثبت/منفی)</h2>"
   ]
  },
  {
   "cell_type": "code",
   "execution_count": 6,
   "id": "43947f60",
   "metadata": {},
   "outputs": [
    {
     "name": "stdout",
     "output_type": "stream",
     "text": [
      "این یک نظر مثبت است.\n"
     ]
    }
   ],
   "source": [
    "prompt = f\"\"\"\n",
    "نظر بررسی محصول زیر است چیست؟\n",
    "فقط مشخص کن چه نوع نظری است!\n",
    "\n",
    "Review text: '''{lamp_review}'''\n",
    "\"\"\"\n",
    "response = get_completion(prompt)\n",
    "print(response)"
   ]
  },
  {
   "cell_type": "code",
   "execution_count": 7,
   "id": "7a84d875",
   "metadata": {},
   "outputs": [
    {
     "name": "stdout",
     "output_type": "stream",
     "text": [
      "مثبت\n"
     ]
    }
   ],
   "source": [
    "prompt = f\"\"\"\n",
    "نظر بررسی محصول زیر که با بکتیک های سه گانه مشخص شده است چیست؟\n",
    "پاسخ خود را به صورت یک کلمه، یا \"مثبت\" یا \"منفی\" بیان کنید\n",
    "\n",
    "Review text: '''{lamp_review}'''\n",
    "\"\"\"\n",
    "response = get_completion(prompt)\n",
    "print(response)"
   ]
  },
  {
   "cell_type": "markdown",
   "id": "5bef0673",
   "metadata": {},
   "source": [
    "<h2 align=\"right\" >انواع احساسات را شناسایی کنید</h2>"
   ]
  },
  {
   "cell_type": "code",
   "execution_count": 9,
   "id": "e835a59f",
   "metadata": {},
   "outputs": [
    {
     "name": "stdout",
     "output_type": "stream",
     "text": [
      "- نیاز\n",
      "- خوشحالی\n",
      "- آسانی\n",
      "- گم شده\n",
      "- اهمیت\n"
     ]
    }
   ],
   "source": [
    "prompt = f\"\"\"\n",
    "\\ .فهرستی از احساساتی را که نویسنده مرور زیر بیان می کند، شناسایی کنید\n",
    "\\ فقط پنج مورد از احساسات را بنویسید و پاسخ خود را به صورت فهرستی از\n",
    "\\ کلمات کوچک که با کاما از هم جدا شده اند قالب بندی کنید\n",
    "\n",
    "Review text: '''{lamp_review}'''\n",
    "\"\"\"\n",
    "response = get_completion(prompt)\n",
    "print(response)"
   ]
  },
  {
   "cell_type": "markdown",
   "id": "b407a138",
   "metadata": {},
   "source": [
    "<h2 align=\"right\">خشم را شناسایی کنید</h2>"
   ]
  },
  {
   "cell_type": "code",
   "execution_count": 10,
   "id": "d7c0f34e",
   "metadata": {},
   "outputs": [
    {
     "name": "stdout",
     "output_type": "stream",
     "text": [
      "خیر\n"
     ]
    }
   ],
   "source": [
    "prompt = f\"\"\"\n",
    "/ آیا نویسنده نقد زیر ابراز خشم می کند؟\n",
    "/ بررسی با بکتیک های سه گانه محدود شده است\n",
    ".پاسخ خود را به صورت بله یا خیر بگویید\n",
    "\n",
    "Review text: '''{lamp_review}'''\n",
    "\"\"\"\n",
    "response = get_completion(prompt)\n",
    "print(response)"
   ]
  },
  {
   "cell_type": "code",
   "execution_count": 24,
   "id": "bc8f547b",
   "metadata": {},
   "outputs": [
    {
     "name": "stdout",
     "output_type": "stream",
     "text": [
      "خریدار از خرید محصول ناراحت نیست به دلیل موارد زیر:\n",
      "1. لامپ دارای فضای ذخیره سازی اضافی است که نیاز خریدار را برطرف می‌کند.\n",
      "2. قیمت لامپ مناسب است و خریدار احساس ناراحتی مالی نمی‌کند.\n",
      "3. در حین حمل و نقل، طناب لامپ پاره شده است، اما شرکت با خوشحالی یک چراغ جدید ارسال کرده است. این نشان می‌دهد که شرکت به مشتریان خود اهمیت می‌دهد و در صورت بروز مشکل، آن را بهبود می‌دهد.\n",
      "4. لامپ به سرعت تحویل داده شده است و خریدار نیاز به انتظار طولانی نداشته است.\n",
      "5. جمع کردن لامپ آسان بوده است که مزیتی برای خریدار است.\n",
      "6. خریدار یک قطعه گم شده متوجه شده است و با پشتیبانی شرکت تماس گرفته است. شرکت به سرعت قطعه گم شده را به خریدار داده است که نشان می‌دهد شرکت به مشتریان خود اهمیت می‌دهد و در صورت نیاز، پشتیبانی مناسب را فراهم می‌کند.\n"
     ]
    }
   ],
   "source": [
    "prompt = f\"\"\"\n",
    "اول بررسی محصول را با دقت بخوان که در پایین مشخص شده است و\n",
    "/ میتوانی به من بگویی چرا خریدار از خرید محصول ناراحت نیست؟\n",
    "\n",
    "Review text: '''{lamp_review}'''\n",
    "\"\"\"\n",
    "response = get_completion(prompt)\n",
    "print(response)"
   ]
  },
  {
   "cell_type": "markdown",
   "id": "8ab36d5f",
   "metadata": {},
   "source": [
    "<h2 align=\"right\">نام محصول و شرکت را از نظرات مشتریان استخراج کنید</h2>"
   ]
  },
  {
   "cell_type": "code",
   "execution_count": 25,
   "id": "195fa12c",
   "metadata": {},
   "outputs": [
    {
     "name": "stdout",
     "output_type": "stream",
     "text": [
      "{\n",
      "  \"محصول\": \"لامپ\",\n",
      "  \"برند شرکت\": \"لومینا\"\n",
      "}\n"
     ]
    }
   ],
   "source": [
    "prompt = f\"\"\"\n",
    "موارد زیر را از متن بررسی مشخص کنید:\n",
    "- مورد خریداری شده توسط بازبین\n",
    "- شرکتی که مورد را ساخته است\n",
    "\n",
    ".بررسی با بکتیک های سه گانه محدود شده است\n",
    "پاسخ خود را به عنوان یک شی \n",
    "JSON\n",
    "با کلیدهای \"محصول\" و \"برند شرکت\" قالب بندی کنید \n",
    ".اگر اطلاعات موجود نیست، از \"ناشناخته\" به عنوان مقدار استفاده کنید\n",
    ".پاسخ خود را تا حد امکان کوتاه کنید\n",
    "\n",
    "Review text: '''{lamp_review}'''\n",
    "\"\"\"\n",
    "response = get_completion(prompt)\n",
    "print(response)"
   ]
  },
  {
   "cell_type": "markdown",
   "id": "10ee7053",
   "metadata": {},
   "source": [
    "<h2 align=\"right\">انجام چند کار به طور همزمان</h2>"
   ]
  },
  {
   "cell_type": "code",
   "execution_count": 26,
   "id": "634eba8e",
   "metadata": {},
   "outputs": [
    {
     "name": "stdout",
     "output_type": "stream",
     "text": [
      "{\n",
      "  \"احساسات\": \"مثبت\",\n",
      "  \"خشم\": false,\n",
      "  \"محصول\": \"لامپ\",\n",
      "  \"برند\": \"لومینا\"\n",
      "}\n"
     ]
    }
   ],
   "source": [
    "prompt = f\"\"\"\n",
    "موارد زیر را از متن بررسی مشخص کنید:\n",
    "- احساسات (مثبت یا منفی)\n",
    "- آیا داور ابراز خشم می کند؟ (درست یا غلط)\n",
    "- مورد خریداری شده توسط بازبین\n",
    "- شرکتی که مورد را ساخته است\n",
    ".بررسی با بکتیک های سه گانه محدود شده است\n",
    "پاسخ خود را به عنوان یک شی \n",
    "JSON \n",
    "با کلیدهای \"احساسات\"، \"خشم\"، \"محصول\" و \"برند\" قالب بندی کنید\n",
    ".اگر اطلاعات موجود نیست، از \"ناشناخته\" به عنوان مقدار استفاده کنید\n",
    ".پاسخ خود را تا حد امکان کوتاه کنید\n",
    "مقدار خشم را به صورت بولی فرمت کنید\n",
    "\n",
    "Review text: '''{lamp_review}'''\n",
    "\"\"\"\n",
    "response = get_completion(prompt)\n",
    "print(response)"
   ]
  },
  {
   "cell_type": "markdown",
   "id": "d947f1e8",
   "metadata": {},
   "source": [
    "<h2 align=\"right\">استنباط موضوعات</h2>"
   ]
  },
  {
   "cell_type": "code",
   "execution_count": 17,
   "id": "affc123b",
   "metadata": {},
   "outputs": [],
   "source": [
    "story = \"\"\"\n",
    "در یک نظرسنجی اخیر که توسط دولت انجام شده است،\n",
    "از کارکنان بخش دولتی خواسته شد تا سطح خود\n",
    "و رضایت از بخشی که در آن کار می کنند را ارزیابی کنند\n",
    "نتایج نشان داد که ناسا محبوب ترین بخش با رتبه رضایت %95 بوده است\n",
    "\n",
    ":یکی از کارمندان ناسا، جان اسمیت، در مورد این یافته ها اظهار نظر کرد\n",
    "وی اظهار داشت: «از اینکه ناسا برتر شد تعجب نکردم\n",
    "این یک مکان عالی برای کار با افراد شگفت انگیز و\n",
    "فرصت های باور نکردنی من افتخار می کنم که بخشی از آن هستم\n",
    "چنین سازمان نوآوری است.\"\n",
    "\n",
    "نتایج همچنین مورد استقبال تیم مدیریت ناسا قرار گرفت.\n",
    "با کارگردان تام جانسون، گفت: \"ما بسیار هیجان زده هستیم\n",
    "!بشنوید که کارمندان ما از کار خود در ناسا راضی هستند\n",
    "ما یک تیم با استعداد و فداکار داریم که خستگی ناپذیر برای دستیابی به اهدافمان، کار می کنند\n",
    "و دیدن این موضوع فوق العاده است\n",
    "کار سخت نتیجه می دهد\"\n",
    "\n",
    "این نظرسنجی همچنین نشان داد که\n",
    "سازمان تامین اجتماعی کمترین رضایت را از\n",
    "رتبه بندی، با تنها 45٪ از کارکنان  داشتند\n",
    "به وطر کلی سازمان تامین اجتماعی رضایت چندانی نداشته است\n",
    "دولت متعهد شده است تا رسیدگی به نگرانی های مطرح شده توسط کارکنان در نظرسنجی و\n",
    "برای بهبود رضایت شغلی در تمام بخش ها تلاش کند\n",
    "\"\"\""
   ]
  },
  {
   "cell_type": "markdown",
   "id": "af50da9b",
   "metadata": {},
   "source": [
    "<h2 align=\"right\">استنباط 5 موضوع</h2>"
   ]
  },
  {
   "cell_type": "code",
   "execution_count": 18,
   "id": "f524f725",
   "metadata": {},
   "outputs": [
    {
     "name": "stdout",
     "output_type": "stream",
     "text": [
      "1. رضایت کارکنان از بخش کاری (کارکنان ناسا)\n",
      "2. رضایت کارکنان از بخش کاری (کارکنان سازمان تامین اجتماعی)\n",
      "3. نتایج نظرسنجی دولتی\n",
      "4. نظرات کارکنان ناسا درباره رتبه بندی\n",
      "5. نظرات تیم مدیریت ناسا درباره رتبه بندی\n"
     ]
    }
   ],
   "source": [
    "prompt = f\"\"\"\n",
    "پنج موضوعی را که در متن زیر مورد بحث قرار می گیرند،\n",
    "تعیین کنید که با بکتیک های سه گانه مشخص شده است.\n",
    "هر مورد را در یک یا دو کلمه بیان کنید\n",
    "پاسخ خود را به عنوان لیستی از موارد جدا شده با کاما قالب بندی کنید\n",
    "\n",
    "Text sample: '''{story}'''\n",
    "\"\"\"\n",
    "response = get_completion(prompt)\n",
    "print(response)"
   ]
  },
  {
   "cell_type": "code",
   "execution_count": 19,
   "id": "bf2a63e7",
   "metadata": {},
   "outputs": [
    {
     "data": {
      "text/plain": [
       "['1. رضایت کارکنان از بخش کاری (کارکنان ناسا)\\n2. رضایت کارکنان از بخش کاری (کارکنان سازمان تامین اجتماعی)\\n3. نتایج نظرسنجی دولتی\\n4. نظرات کارکنان ناسا درباره رتبه بندی\\n5. نظرات تیم مدیریت ناسا درباره رتبه بندی']"
      ]
     },
     "execution_count": 19,
     "metadata": {},
     "output_type": "execute_result"
    }
   ],
   "source": [
    "response.split(sep=',')"
   ]
  },
  {
   "cell_type": "code",
   "execution_count": 21,
   "id": "632ddc34",
   "metadata": {},
   "outputs": [],
   "source": [
    "topic_list = [\n",
    "    \" رضایت کارکنان از بخش کاری (کارکنان ناسا)\", \"مهندسی\", \"نتایج نظرسنجی دولتی\", \n",
    "    \"نظرات تیم مدیریت ناسا درباره رتبه بندی\", \"دولت محلی\"\n",
    "]"
   ]
  },
  {
   "cell_type": "markdown",
   "id": "f102b0a0",
   "metadata": {},
   "source": [
    "<h2 align=\"right\">یک هشدار خبری برای موضوعات خاص ایجاد کنید</h2>"
   ]
  },
  {
   "cell_type": "code",
   "execution_count": 22,
   "id": "37e7056f",
   "metadata": {},
   "outputs": [
    {
     "name": "stdout",
     "output_type": "stream",
     "text": [
      "1. رضایت کارکنان از بخش کاری (کارکنان ناسا): 1\n",
      "2. مهندسی: 0\n",
      "3. نتایج نظرسنجی دولتی: 1\n",
      "4. نظرات تیم مدیریت ناسا درباره رتبه بندی: 1\n",
      "5. دولت محلی: 0\n"
     ]
    }
   ],
   "source": [
    "prompt = f\"\"\"\n",
    "/ تعیین کنید که آیا هر مورد در لیست موضوعات زیر یک موضوع\n",
    ".در متن زیر است که با بکتیک های سه گانه مشخص شده است یا خیر\n",
    "!پاسخ خود را به صورت فهرستی با 0 یا 1 برای هر موضوع ارائه دهید\n",
    "\n",
    "List of topics: {\", \".join(topic_list)}\n",
    "\n",
    "Text sample: '''{story}'''\n",
    "\"\"\"\n",
    "response = get_completion(prompt)\n",
    "print(response)"
   ]
  }
 ],
 "metadata": {
  "kernelspec": {
   "display_name": "Python 3 (ipykernel)",
   "language": "python",
   "name": "python3"
  },
  "language_info": {
   "codemirror_mode": {
    "name": "ipython",
    "version": 3
   },
   "file_extension": ".py",
   "mimetype": "text/x-python",
   "name": "python",
   "nbconvert_exporter": "python",
   "pygments_lexer": "ipython3",
   "version": "3.10.9"
  }
 },
 "nbformat": 4,
 "nbformat_minor": 5
}
